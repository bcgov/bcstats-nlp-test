{
 "cells": [
  {
   "cell_type": "markdown",
   "id": "d679c381-9ea0-412d-8323-129884e50592",
   "metadata": {},
   "source": [
    "# Requirements\n",
    "\n",
    "Because the VM is within the same network as the storage account, we do not need any extra SAS tokens to connect.\n",
    "\n",
    "However, without modifying the managed identities associated with the accounts, we do need the `connection_string`. This can be found in Azure under the account network settings. \n",
    "\n",
    "Copy this to your `config.py` file, as well as the name of the container and account you are accessing. "
   ]
  },
  {
   "cell_type": "code",
   "execution_count": 1,
   "id": "75b49218-1dbf-4291-84ae-c00eaee4b7ed",
   "metadata": {},
   "outputs": [],
   "source": [
    "import os\n",
    "import sys\n",
    "\n",
    "# import a csv into azure blob storage\n",
    "from azure.storage.blob import BlobServiceClient\n",
    "\n",
    "sys.path.append(os.path.abspath(os.path.join(os.getcwd(), \"..\")))\n",
    "from src.config import container, account, data_path_rvm, connection_string"
   ]
  },
  {
   "cell_type": "code",
   "execution_count": 2,
   "id": "c4897cfd-e378-47eb-abfa-f0f62a3e978f",
   "metadata": {},
   "outputs": [],
   "source": [
    "# make connection to blob service\n",
    "blob_service_client = BlobServiceClient.from_connection_string(connection_string) \n",
    "\n",
    "# make connection to blob\n",
    "blob_path = 'rvm_datda.xlsx'\n",
    "blob_client = blob_service_client.get_blob_client(container=container, blob=blob_path)"
   ]
  },
  {
   "cell_type": "code",
   "execution_count": 3,
   "id": "ed998e01-8806-4b79-9329-563033fea510",
   "metadata": {},
   "outputs": [],
   "source": [
    "# download a file\n",
    "with open(data_path_rvm, \"wb\") as data:\n",
    "    data.write(blob_client.download_blob().readall())"
   ]
  },
  {
   "cell_type": "code",
   "execution_count": null,
   "id": "6cb2aacd-80c6-479b-a525-14ddc8ceced2",
   "metadata": {},
   "outputs": [],
   "source": []
  }
 ],
 "metadata": {
  "kernelspec": {
   "display_name": "Python 3 (ipykernel)",
   "language": "python",
   "name": "python3"
  },
  "language_info": {
   "codemirror_mode": {
    "name": "ipython",
    "version": 3
   },
   "file_extension": ".py",
   "mimetype": "text/x-python",
   "name": "python",
   "nbconvert_exporter": "python",
   "pygments_lexer": "ipython3",
   "version": "3.10.15"
  }
 },
 "nbformat": 4,
 "nbformat_minor": 5
}
