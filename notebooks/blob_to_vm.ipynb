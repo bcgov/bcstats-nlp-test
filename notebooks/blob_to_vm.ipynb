{
 "cells": [
  {
   "cell_type": "code",
   "execution_count": 1,
   "id": "75b49218-1dbf-4291-84ae-c00eaee4b7ed",
   "metadata": {},
   "outputs": [],
   "source": [
    "import os\n",
    "import sys\n",
    "\n",
    "# import a csv into azure blob storage\n",
    "from azure.storage.blob import BlobServiceClient\n",
    "\n",
    "sys.path.append(os.path.abspath(os.path.join(os.getcwd(), \"..\")))\n",
    "from src.config import container, account, data_path, connection_string"
   ]
  },
  {
   "cell_type": "code",
   "execution_count": 2,
   "id": "c4897cfd-e378-47eb-abfa-f0f62a3e978f",
   "metadata": {},
   "outputs": [],
   "source": [
    "# make connection to blob service\n",
    "blob_service_client = BlobServiceClient.from_connection_string(connection_string) \n",
    "\n",
    "# make connection to blob\n",
    "blob_path = 'synthetic_survey_data.csv'\n",
    "blob_client = blob_service_client.get_blob_client(container=container, blob=blob_path)"
   ]
  },
  {
   "cell_type": "code",
   "execution_count": 3,
   "id": "ed998e01-8806-4b79-9329-563033fea510",
   "metadata": {},
   "outputs": [],
   "source": [
    "# download a file\n",
    "with open(data_path, \"wb\") as data:\n",
    "    data.write(blob_client.download_blob().readall())"
   ]
  },
  {
   "cell_type": "code",
   "execution_count": null,
   "id": "6cb2aacd-80c6-479b-a525-14ddc8ceced2",
   "metadata": {},
   "outputs": [],
   "source": []
  }
 ],
 "metadata": {
  "kernelspec": {
   "display_name": "Python 3 (ipykernel)",
   "language": "python",
   "name": "python3"
  },
  "language_info": {
   "codemirror_mode": {
    "name": "ipython",
    "version": 3
   },
   "file_extension": ".py",
   "mimetype": "text/x-python",
   "name": "python",
   "nbconvert_exporter": "python",
   "pygments_lexer": "ipython3",
   "version": "3.10.15"
  }
 },
 "nbformat": 4,
 "nbformat_minor": 5
}
