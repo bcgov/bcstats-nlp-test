{
 "cells": [
  {
   "cell_type": "markdown",
   "id": "6cec19e3-e5cb-44ce-912f-67ddd2b0d3d4",
   "metadata": {},
   "source": [
    "Copyright 2025 Province of British Columbia\n",
    "\n",
    "Licensed under the Apache License, Version 2.0 (the \"License\");\n",
    "you may not use this file except in compliance with the License.\n",
    "You may obtain a copy of the License at\n",
    "\n",
    "http://www.apache.org/licenses/LICENSE-2.0\n",
    "\n",
    "Unless required by applicable law or agreed to in writing, software distributed under the License is distributed on an \"AS IS\" BASIS,\n",
    "WITHOUT WARRANTIES OR CONDITIONS OF ANY KIND, either express or implied.\n",
    "See the License for the specific language governing permissions and limitations under the License."
   ]
  },
  {
   "cell_type": "markdown",
   "id": "c1490a4d-2d13-4e13-823b-8b20a1693e4f",
   "metadata": {},
   "source": [
    "### Data Cleaning \n",
    "\n",
    "create a column that will work with AZ ML Workspace\n"
   ]
  },
  {
   "cell_type": "code",
   "execution_count": null,
   "id": "938952a9-d8a7-43bd-9cfb-9b2d9b7275ab",
   "metadata": {},
   "outputs": [],
   "source": [
    "# system stuff\n",
    "import sys\n",
    "import os\n",
    "\n",
    "import pandas as pd\n",
    "\n",
    "# my stuff (abstracted non-important functions)\n",
    "# Get the project root (one level up from notebooks)\n",
    "sys.path.append(os.path.abspath(os.path.join(os.getcwd(), \"..\")))\n",
    "from src.config import data_path\n",
    "from src.prepare_data import create_train_test_dataframes"
   ]
  },
  {
   "cell_type": "code",
   "execution_count": null,
   "id": "3971942f-4a8d-4a68-8c44-5faf84d859fb",
   "metadata": {},
   "outputs": [],
   "source": [
    "# create a single column to use as target for Azure\n",
    "def create_target(x):\n",
    "    out = \"[\"\n",
    "    if x['Data Scientist'] == 1:\n",
    "        out+=\"'Data Scientist',\"\n",
    "    if x['Data Engineer'] == 1:\n",
    "        out+=\"'Data Engineer',\"\n",
    "    if x['ML Engineer'] == 1:\n",
    "        out+=\"'ML Engineer',\"\n",
    "    if x['Data Analyst'] == 1:\n",
    "        out+=\"'Data Analyst',\"\n",
    "    #if x['Software Engineer'] == 1:\n",
    "    #    out+=\"'Software Engineer',\"\n",
    "    if x['Other'] == 1:\n",
    "        out+=\"'Other',\"\n",
    "        \n",
    "    out = out.strip(',')+']'\n",
    "    \n",
    "    return out"
   ]
  },
  {
   "cell_type": "code",
   "execution_count": null,
   "id": "5f696d88-7bcf-4d5c-9db8-f1dd5f9250a4",
   "metadata": {},
   "outputs": [],
   "source": [
    "df = pd.read_csv(data_path)\n",
    "df.head()"
   ]
  },
  {
   "cell_type": "code",
   "execution_count": null,
   "id": "7a3e12e4-cb79-45a2-ac66-8a2319293f28",
   "metadata": {},
   "outputs": [],
   "source": [
    "df['target'] = df.apply(create_target, axis=1)\n",
    "df.head()"
   ]
  },
  {
   "cell_type": "code",
   "execution_count": null,
   "id": "a1974de4-f5c2-4d94-a844-e9aa635d3399",
   "metadata": {},
   "outputs": [],
   "source": [
    "# split so that it only trains on a subset \n",
    "n_train = 1_000\n",
    "df_train, df_test = create_train_test_dataframes(df, n_train=n_train)"
   ]
  },
  {
   "cell_type": "code",
   "execution_count": null,
   "id": "6344abb8-c186-4f7e-aa2d-9f011e7da099",
   "metadata": {},
   "outputs": [],
   "source": [
    "# pull another 1_000 for validation\n",
    "df_validate, df_test = create_train_test_dataframes(df_test, n_train=n_train)"
   ]
  },
  {
   "cell_type": "code",
   "execution_count": null,
   "id": "d50c2f61-034d-4cc0-aa6b-f25a4e4e9259",
   "metadata": {},
   "outputs": [],
   "source": [
    "# save these for upload to the workspace\n",
    "# after removing the int columns\n",
    "df_train[['Response', 'target']].to_csv(data_path.replace('.csv', '_train.csv'), index=False)\n",
    "df_validate[['Response', 'target']].to_csv(data_path.replace('.csv', '_validate.csv'), index=False)\n",
    "df_test[['Response', 'target']].to_csv(data_path.replace('.csv', '_test.csv'), index=False)"
   ]
  },
  {
   "cell_type": "code",
   "execution_count": null,
   "id": "5f5ff684-a379-48fd-bf3d-77d545613540",
   "metadata": {},
   "outputs": [],
   "source": []
  }
 ],
 "metadata": {
  "kernelspec": {
   "display_name": "Python 3 (ipykernel)",
   "language": "python",
   "name": "python3"
  },
  "language_info": {
   "codemirror_mode": {
    "name": "ipython",
    "version": 3
   },
   "file_extension": ".py",
   "mimetype": "text/x-python",
   "name": "python",
   "nbconvert_exporter": "python",
   "pygments_lexer": "ipython3",
   "version": "3.10.15"
  }
 },
 "nbformat": 4,
 "nbformat_minor": 5
}
