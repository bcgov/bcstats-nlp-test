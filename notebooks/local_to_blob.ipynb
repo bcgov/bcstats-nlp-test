{
 "cells": [
  {
   "cell_type": "markdown",
   "id": "760c4655-f6f6-4670-882f-b3818002a843",
   "metadata": {},
   "source": [
    "Copyright 2025 Province of British Columbia\n",
    "\n",
    "Licensed under the Apache License, Version 2.0 (the \"License\");\n",
    "you may not use this file except in compliance with the License.\n",
    "You may obtain a copy of the License at\n",
    "\n",
    "http://www.apache.org/licenses/LICENSE-2.0\n",
    "\n",
    "Unless required by applicable law or agreed to in writing, software distributed under the License is distributed on an \"AS IS\" BASIS,\n",
    "WITHOUT WARRANTIES OR CONDITIONS OF ANY KIND, either express or implied.\n",
    "See the License for the specific language governing permissions and limitations under the License."
   ]
  },
  {
   "cell_type": "markdown",
   "id": "1e67c457-3460-4484-977d-34b9adcfeaf8",
   "metadata": {},
   "source": [
    "# Requirements\n",
    "\n",
    "Because the local workstation is NOT within the same network as the storage account (maybe?), we need an extra SAS token to connect.\n",
    "\n",
    "To create a SAS token, open your storage account, and create one in the security -> shared access signature space. \n",
    "\n",
    "Copy this to your `config.py` file, as well as the name of the container you are accessing. "
   ]
  },
  {
   "cell_type": "code",
   "execution_count": 10,
   "id": "75b49218-1dbf-4291-84ae-c00eaee4b7ed",
   "metadata": {},
   "outputs": [],
   "source": [
    "import os\n",
    "import sys\n",
    "\n",
    "# import a csv into azure blob storage\n",
    "from azure.storage.blob import BlobServiceClient\n",
    "\n",
    "sys.path.append(os.path.abspath(os.path.join(os.getcwd(), \"..\")))\n",
    "from src.config import container, data_path, blob_service_sas_url"
   ]
  },
  {
   "cell_type": "code",
   "execution_count": 19,
   "id": "c4897cfd-e378-47eb-abfa-f0f62a3e978f",
   "metadata": {},
   "outputs": [],
   "source": [
    "# Connect to storage account\n",
    "blob_service_client = BlobServiceClient(account_url=blob_service_sas_url)\n",
    "container_client = blob_service_client.get_container_client(container)"
   ]
  },
  {
   "cell_type": "code",
   "execution_count": 20,
   "id": "ed998e01-8806-4b79-9329-563033fea510",
   "metadata": {},
   "outputs": [],
   "source": [
    "# Upload a file\n",
    "output_path = 'synthetic_survey_data.csv'\n",
    "blob_client = container_client.get_blob_client(output_path)\n",
    "with open(data_path, \"rb\") as data:\n",
    "    blob_client.upload_blob(data, overwrite=True)"
   ]
  },
  {
   "cell_type": "code",
   "execution_count": null,
   "id": "6cb2aacd-80c6-479b-a525-14ddc8ceced2",
   "metadata": {},
   "outputs": [],
   "source": []
  }
 ],
 "metadata": {
  "kernelspec": {
   "display_name": "Python 3 (ipykernel)",
   "language": "python",
   "name": "python3"
  },
  "language_info": {
   "codemirror_mode": {
    "name": "ipython",
    "version": 3
   },
   "file_extension": ".py",
   "mimetype": "text/x-python",
   "name": "python",
   "nbconvert_exporter": "python",
   "pygments_lexer": "ipython3",
   "version": "3.10.16"
  }
 },
 "nbformat": 4,
 "nbformat_minor": 5
}
