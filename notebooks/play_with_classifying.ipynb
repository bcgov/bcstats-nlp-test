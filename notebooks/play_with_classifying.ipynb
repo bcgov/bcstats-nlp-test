{
 "cells": [
  {
   "cell_type": "code",
   "execution_count": 1,
   "id": "28595396-7b4d-46f5-9a0b-85ee77282cd3",
   "metadata": {
    "tags": []
   },
   "outputs": [],
   "source": [
    "# system stuff\n",
    "import sys\n",
    "import os\n",
    "\n",
    "# the usual\n",
    "import pandas as pd\n",
    "\n",
    "# model stuff \n",
    "from transformers import AutoTokenizer\n",
    "from transformers import AutoModelForSequenceClassification\n",
    "from transformers import Trainer, TrainingArguments\n",
    "from transformers import pipeline\n",
    "\n",
    "# my stuff (abstracted non-important functions)\n",
    "# Get the project root (one level up from notebooks)\n",
    "sys.path.append(os.path.abspath(os.path.join(os.getcwd(), \"..\")))\n",
    "from src.prepare_data import get_labels_list, create_train_test_dataframes, tokenize_data, create_hf_dataset\n",
    "from src.evaluate_data import compute_metrics, classify_batch, classify_batch_llm, all_right, right_plus_extra, added_one, missed_one\n",
    "from src.config import data_path"
   ]
  },
  {
   "cell_type": "code",
   "execution_count": 2,
   "id": "fac6e883-94e9-4636-a66e-0879b3afc3a6",
   "metadata": {},
   "outputs": [
    {
     "data": {
      "text/plain": [
       "12"
      ]
     },
     "execution_count": 2,
     "metadata": {},
     "output_type": "execute_result"
    }
   ],
   "source": [
    "# how many cores do I have to play with?\n",
    "os.cpu_count()"
   ]
  },
  {
   "cell_type": "code",
   "execution_count": 3,
   "id": "cb01cbe4-ea65-4f9b-99cb-ac9aa2fb59c6",
   "metadata": {},
   "outputs": [
    {
     "name": "stdout",
     "output_type": "stream",
     "text": [
      "Total RAM: 34.07 GB\n",
      "Available RAM: 15.30 GB\n"
     ]
    }
   ],
   "source": [
    "import psutil\n",
    "\n",
    "ram = psutil.virtual_memory()\n",
    "print(f\"Total RAM: {ram.total / 1e9:.2f} GB\")\n",
    "print(f\"Available RAM: {ram.available / 1e9:.2f} GB\")"
   ]
  },
  {
   "cell_type": "markdown",
   "id": "75e94627-1bf4-4fe6-b35f-f40576580015",
   "metadata": {},
   "source": [
    "## Read in Data and Preprocess\n",
    "\n",
    "* Read in data\n",
    "* Create a column for use in training\n",
    "* Create a small 'training' set to mimic a human categorizing a small subset of survey responses\n",
    "* Convert to hugging face datasets for smoother processing\n",
    "* Create lists of labels to use in various models"
   ]
  },
  {
   "cell_type": "code",
   "execution_count": 4,
   "id": "e9f0311a-e61b-4d1a-9ee8-bfc3d2659f5c",
   "metadata": {
    "tags": []
   },
   "outputs": [],
   "source": [
    "df = pd.read_csv(data_path)\n",
    "labels_original = list(df.columns)[1:]\n",
    "df.columns = [x.lower().replace(' ','_') for x in df.columns]"
   ]
  },
  {
   "cell_type": "code",
   "execution_count": 5,
   "id": "11ea08db-49b7-4136-b9ce-fb42d6854af4",
   "metadata": {
    "tags": []
   },
   "outputs": [
    {
     "data": {
      "text/plain": [
       "['Response',\n",
       " 'Data Scientist',\n",
       " 'Data Engineer',\n",
       " 'Data Analyst',\n",
       " 'ML Engineer',\n",
       " 'Other']"
      ]
     },
     "execution_count": 5,
     "metadata": {},
     "output_type": "execute_result"
    }
   ],
   "source": [
    "# we'll use the original labels for the LLM classifier, but mostly we want nice to work with column names \n",
    "labels_original"
   ]
  },
  {
   "cell_type": "code",
   "execution_count": 6,
   "id": "155818a4-9f7a-442a-a938-0148fe720c6c",
   "metadata": {
    "tags": []
   },
   "outputs": [
    {
     "data": {
      "text/html": [
       "<div>\n",
       "<style scoped>\n",
       "    .dataframe tbody tr th:only-of-type {\n",
       "        vertical-align: middle;\n",
       "    }\n",
       "\n",
       "    .dataframe tbody tr th {\n",
       "        vertical-align: top;\n",
       "    }\n",
       "\n",
       "    .dataframe thead th {\n",
       "        text-align: right;\n",
       "    }\n",
       "</style>\n",
       "<table border=\"1\" class=\"dataframe\">\n",
       "  <thead>\n",
       "    <tr style=\"text-align: right;\">\n",
       "      <th></th>\n",
       "      <th>response</th>\n",
       "      <th>data_scientist</th>\n",
       "      <th>data_engineer</th>\n",
       "      <th>data_analyst</th>\n",
       "      <th>ml_engineer</th>\n",
       "      <th>other</th>\n",
       "    </tr>\n",
       "  </thead>\n",
       "  <tbody>\n",
       "    <tr>\n",
       "      <th>0</th>\n",
       "      <td>ML Ops Specialist, ML Engineer</td>\n",
       "      <td>1</td>\n",
       "      <td>0</td>\n",
       "      <td>0</td>\n",
       "      <td>1</td>\n",
       "      <td>0</td>\n",
       "    </tr>\n",
       "    <tr>\n",
       "      <th>1</th>\n",
       "      <td>Analytics Consultant (at least that's what my ...</td>\n",
       "      <td>0</td>\n",
       "      <td>0</td>\n",
       "      <td>1</td>\n",
       "      <td>0</td>\n",
       "      <td>0</td>\n",
       "    </tr>\n",
       "    <tr>\n",
       "      <th>2</th>\n",
       "      <td>System Administrator</td>\n",
       "      <td>0</td>\n",
       "      <td>0</td>\n",
       "      <td>0</td>\n",
       "      <td>0</td>\n",
       "      <td>1</td>\n",
       "    </tr>\n",
       "    <tr>\n",
       "      <th>3</th>\n",
       "      <td>IT Support Specialist</td>\n",
       "      <td>0</td>\n",
       "      <td>0</td>\n",
       "      <td>0</td>\n",
       "      <td>0</td>\n",
       "      <td>1</td>\n",
       "    </tr>\n",
       "    <tr>\n",
       "      <th>4</th>\n",
       "      <td>ML Engineer, ML Ops Specialist, Big Data Engin...</td>\n",
       "      <td>1</td>\n",
       "      <td>1</td>\n",
       "      <td>0</td>\n",
       "      <td>1</td>\n",
       "      <td>0</td>\n",
       "    </tr>\n",
       "  </tbody>\n",
       "</table>\n",
       "</div>"
      ],
      "text/plain": [
       "                                            response  data_scientist  \\\n",
       "0                     ML Ops Specialist, ML Engineer               1   \n",
       "1  Analytics Consultant (at least that's what my ...               0   \n",
       "2                               System Administrator               0   \n",
       "3                              IT Support Specialist               0   \n",
       "4  ML Engineer, ML Ops Specialist, Big Data Engin...               1   \n",
       "\n",
       "   data_engineer  data_analyst  ml_engineer  other  \n",
       "0              0             0            1      0  \n",
       "1              0             1            0      0  \n",
       "2              0             0            0      1  \n",
       "3              0             0            0      1  \n",
       "4              1             0            1      0  "
      ]
     },
     "execution_count": 6,
     "metadata": {},
     "output_type": "execute_result"
    }
   ],
   "source": [
    "df.head()"
   ]
  },
  {
   "cell_type": "code",
   "execution_count": 7,
   "id": "cd241035-25d7-4fa7-a506-7e96114b6bd8",
   "metadata": {
    "tags": []
   },
   "outputs": [],
   "source": [
    "# convert to a multi labeled dataset for use with huggingface\n",
    "df['label'] = df.apply(get_labels_list, axis=1)"
   ]
  },
  {
   "cell_type": "code",
   "execution_count": 8,
   "id": "75a7ce1b-802a-4dc3-a9a4-450c1891642a",
   "metadata": {
    "tags": []
   },
   "outputs": [
    {
     "data": {
      "text/plain": [
       "['data_scientist', 'data_engineer', 'data_analyst', 'ml_engineer', 'other']"
      ]
     },
     "metadata": {},
     "output_type": "display_data"
    }
   ],
   "source": [
    "# create list of categories\n",
    "labels = list(df.columns[1:6])\n",
    "display(labels)\n",
    "\n",
    "# create id2labels to use in the modelling step\n",
    "id2label = {ii: label for ii, label in enumerate(labels)}\n",
    "label2id = {label: idx for idx, label in id2label.items()}"
   ]
  },
  {
   "cell_type": "code",
   "execution_count": 9,
   "id": "a610db2e-ca1d-4dc6-9e8c-49ae341bbe17",
   "metadata": {
    "tags": []
   },
   "outputs": [
    {
     "data": {
      "text/html": [
       "<div>\n",
       "<style scoped>\n",
       "    .dataframe tbody tr th:only-of-type {\n",
       "        vertical-align: middle;\n",
       "    }\n",
       "\n",
       "    .dataframe tbody tr th {\n",
       "        vertical-align: top;\n",
       "    }\n",
       "\n",
       "    .dataframe thead th {\n",
       "        text-align: right;\n",
       "    }\n",
       "</style>\n",
       "<table border=\"1\" class=\"dataframe\">\n",
       "  <thead>\n",
       "    <tr style=\"text-align: right;\">\n",
       "      <th></th>\n",
       "      <th>response</th>\n",
       "      <th>data_scientist</th>\n",
       "      <th>data_engineer</th>\n",
       "      <th>data_analyst</th>\n",
       "      <th>ml_engineer</th>\n",
       "      <th>other</th>\n",
       "      <th>label</th>\n",
       "    </tr>\n",
       "  </thead>\n",
       "  <tbody>\n",
       "    <tr>\n",
       "      <th>0</th>\n",
       "      <td>ML Ops Specialist, ML Engineer</td>\n",
       "      <td>1</td>\n",
       "      <td>0</td>\n",
       "      <td>0</td>\n",
       "      <td>1</td>\n",
       "      <td>0</td>\n",
       "      <td>[1.0, 0.0, 0.0, 1.0, 0.0]</td>\n",
       "    </tr>\n",
       "    <tr>\n",
       "      <th>1</th>\n",
       "      <td>Analytics Consultant (at least that's what my ...</td>\n",
       "      <td>0</td>\n",
       "      <td>0</td>\n",
       "      <td>1</td>\n",
       "      <td>0</td>\n",
       "      <td>0</td>\n",
       "      <td>[0.0, 0.0, 1.0, 0.0, 0.0]</td>\n",
       "    </tr>\n",
       "    <tr>\n",
       "      <th>2</th>\n",
       "      <td>System Administrator</td>\n",
       "      <td>0</td>\n",
       "      <td>0</td>\n",
       "      <td>0</td>\n",
       "      <td>0</td>\n",
       "      <td>1</td>\n",
       "      <td>[0.0, 0.0, 0.0, 0.0, 1.0]</td>\n",
       "    </tr>\n",
       "    <tr>\n",
       "      <th>3</th>\n",
       "      <td>IT Support Specialist</td>\n",
       "      <td>0</td>\n",
       "      <td>0</td>\n",
       "      <td>0</td>\n",
       "      <td>0</td>\n",
       "      <td>1</td>\n",
       "      <td>[0.0, 0.0, 0.0, 0.0, 1.0]</td>\n",
       "    </tr>\n",
       "    <tr>\n",
       "      <th>4</th>\n",
       "      <td>ML Engineer, ML Ops Specialist, Big Data Engin...</td>\n",
       "      <td>1</td>\n",
       "      <td>1</td>\n",
       "      <td>0</td>\n",
       "      <td>1</td>\n",
       "      <td>0</td>\n",
       "      <td>[1.0, 1.0, 0.0, 1.0, 0.0]</td>\n",
       "    </tr>\n",
       "  </tbody>\n",
       "</table>\n",
       "</div>"
      ],
      "text/plain": [
       "                                            response  data_scientist  \\\n",
       "0                     ML Ops Specialist, ML Engineer               1   \n",
       "1  Analytics Consultant (at least that's what my ...               0   \n",
       "2                               System Administrator               0   \n",
       "3                              IT Support Specialist               0   \n",
       "4  ML Engineer, ML Ops Specialist, Big Data Engin...               1   \n",
       "\n",
       "   data_engineer  data_analyst  ml_engineer  other                      label  \n",
       "0              0             0            1      0  [1.0, 0.0, 0.0, 1.0, 0.0]  \n",
       "1              0             1            0      0  [0.0, 0.0, 1.0, 0.0, 0.0]  \n",
       "2              0             0            0      1  [0.0, 0.0, 0.0, 0.0, 1.0]  \n",
       "3              0             0            0      1  [0.0, 0.0, 0.0, 0.0, 1.0]  \n",
       "4              1             0            1      0  [1.0, 1.0, 0.0, 1.0, 0.0]  "
      ]
     },
     "execution_count": 9,
     "metadata": {},
     "output_type": "execute_result"
    }
   ],
   "source": [
    "df.head()"
   ]
  },
  {
   "cell_type": "code",
   "execution_count": 10,
   "id": "5e631932-196c-4b5d-ae4e-e1a85bad2286",
   "metadata": {
    "tags": []
   },
   "outputs": [],
   "source": [
    "# let's chunk off the majority of this data to never be used in training\n",
    "# this most matches what we would like our process to look like\n",
    "n_train = 1_000\n",
    "df_train, df_test = create_train_test_dataframes(df, n_train=n_train)"
   ]
  },
  {
   "cell_type": "code",
   "execution_count": 11,
   "id": "55ec39dd-ac49-4a40-9de9-21baa464cc61",
   "metadata": {
    "tags": []
   },
   "outputs": [],
   "source": [
    "# use distillbert to tokenize the data (a smaller version of bert)\n",
    "tokenizer = AutoTokenizer.from_pretrained(\"distilbert/distilbert-base-uncased\")"
   ]
  },
  {
   "cell_type": "code",
   "execution_count": 12,
   "id": "b9533097-01d6-4d20-b4f1-884dcb41d441",
   "metadata": {
    "tags": []
   },
   "outputs": [
    {
     "data": {
      "application/vnd.jupyter.widget-view+json": {
       "model_id": "69170788bfc24824b4f50faeca144f04",
       "version_major": 2,
       "version_minor": 0
      },
      "text/plain": [
       "Map:   0%|          | 0/1000 [00:00<?, ? examples/s]"
      ]
     },
     "metadata": {},
     "output_type": "display_data"
    },
    {
     "data": {
      "application/vnd.jupyter.widget-view+json": {
       "model_id": "40cccb662d5d48e2856af15ddfc5aeab",
       "version_major": 2,
       "version_minor": 0
      },
      "text/plain": [
       "Map:   0%|          | 0/49000 [00:00<?, ? examples/s]"
      ]
     },
     "metadata": {},
     "output_type": "display_data"
    },
    {
     "data": {
      "application/vnd.jupyter.widget-view+json": {
       "model_id": "0295a016289a47b583e3b055b2c17ed5",
       "version_major": 2,
       "version_minor": 0
      },
      "text/plain": [
       "Map:   0%|          | 0/50000 [00:00<?, ? examples/s]"
      ]
     },
     "metadata": {},
     "output_type": "display_data"
    }
   ],
   "source": [
    "# convert from pandas to a huggine face dataset to best utilize their tools\n",
    "# this will also tokenize the data\n",
    "dataset_train = create_hf_dataset(df_train, tokenizer)\n",
    "dataset_test = create_hf_dataset(df_test, tokenizer)\n",
    "dataset = create_hf_dataset(df, tokenizer)"
   ]
  },
  {
   "cell_type": "code",
   "execution_count": 13,
   "id": "fc49ca3d-b29f-45b1-b7fc-c28b38fc5354",
   "metadata": {
    "tags": []
   },
   "outputs": [],
   "source": [
    "# train test split the data for model validation\n",
    "# the 'test' data from this step will be used as validation data in the modelling step\n",
    "dataset_train = dataset_train.train_test_split(test_size = 0.3)"
   ]
  },
  {
   "cell_type": "code",
   "execution_count": 14,
   "id": "9853675a-ed5b-4b0d-ac4b-6c64b47aa271",
   "metadata": {
    "tags": []
   },
   "outputs": [
    {
     "data": {
      "text/plain": [
       "Dataset({\n",
       "    features: ['response', 'label', 'input_ids', 'attention_mask'],\n",
       "    num_rows: 50000\n",
       "})"
      ]
     },
     "execution_count": 14,
     "metadata": {},
     "output_type": "execute_result"
    }
   ],
   "source": [
    "dataset"
   ]
  },
  {
   "cell_type": "markdown",
   "id": "932ba8f5-0573-4619-91e1-63bb5ceac184",
   "metadata": {},
   "source": [
    "## Set up a model with pre-trained data\n",
    "\n",
    "* Using hugging face open source models as our starting point\n",
    "* Set up a trainer where we can play with the number of devices to use during training\n",
    "* Train the model\n",
    "* Evaluate accuracy (and test how long this step takes)\n",
    "* Save the model\n",
    "* Classify our entire dataset (and test how long this step takes)"
   ]
  },
  {
   "cell_type": "code",
   "execution_count": 28,
   "id": "68a88ea9-920f-4b70-a540-ad9ec11551e2",
   "metadata": {
    "tags": []
   },
   "outputs": [
    {
     "name": "stderr",
     "output_type": "stream",
     "text": [
      "Some weights of DistilBertForSequenceClassification were not initialized from the model checkpoint at distilbert/distilbert-base-uncased and are newly initialized: ['classifier.bias', 'classifier.weight', 'pre_classifier.bias', 'pre_classifier.weight']\n",
      "You should probably TRAIN this model on a down-stream task to be able to use it for predictions and inference.\n"
     ]
    }
   ],
   "source": [
    "# set up a model for multi-label classification\n",
    "model = AutoModelForSequenceClassification.from_pretrained(\n",
    "    \"distilbert/distilbert-base-uncased\", \n",
    "    num_labels=len(labels),\n",
    "    problem_type=\"multi_label_classification\",\n",
    "    id2label=id2label,\n",
    "    label2id=label2id\n",
    ")"
   ]
  },
  {
   "cell_type": "code",
   "execution_count": 29,
   "id": "e704cae4-6740-4281-a945-5bf7c3881918",
   "metadata": {
    "tags": []
   },
   "outputs": [],
   "source": [
    "# set up trainer\n",
    "model_path = '../models/my_test_model'\n",
    "training_args = TrainingArguments(\n",
    "    \n",
    "    # save params\n",
    "    output_dir=model_path, # save final model\n",
    "    eval_strategy=\"epoch\",        # make evaluations at end of each epoch\n",
    "    save_strategy='epoch',        # save checkpoints every epoch\n",
    "    load_best_model_at_end=True,   # save best model at end\n",
    "    \n",
    "    # learning params\n",
    "    learning_rate=2e-5,\n",
    "    num_train_epochs=3,\n",
    "    weight_decay=0.01,\n",
    "    \n",
    "    # calibrate machine params \n",
    "    per_device_train_batch_size=4,\n",
    "    per_device_eval_batch_size=4,\n",
    "    \n",
    "    # logs\n",
    "    logging_dir=\"./logs\",\n",
    "    logging_steps=10\n",
    ")\n",
    "\n",
    "trainer = Trainer(\n",
    "    model=model,\n",
    "    args=training_args,\n",
    "    train_dataset=dataset_train[\"train\"],\n",
    "    eval_dataset=dataset_train[\"test\"],\n",
    "    processing_class=tokenizer,\n",
    "    compute_metrics=compute_metrics # computes accuracy and f1 score\n",
    ")\n",
    "    "
   ]
  },
  {
   "cell_type": "code",
   "execution_count": 30,
   "id": "94dfd00d-404b-474a-bcd7-e4a6ad7d6f20",
   "metadata": {
    "tags": []
   },
   "outputs": [
    {
     "data": {
      "text/html": [
       "\n",
       "    <div>\n",
       "      \n",
       "      <progress value='525' max='525' style='width:300px; height:20px; vertical-align: middle;'></progress>\n",
       "      [525/525 24:57, Epoch 3/3]\n",
       "    </div>\n",
       "    <table border=\"1\" class=\"dataframe\">\n",
       "  <thead>\n",
       " <tr style=\"text-align: left;\">\n",
       "      <th>Epoch</th>\n",
       "      <th>Training Loss</th>\n",
       "      <th>Validation Loss</th>\n",
       "      <th>Accuracy</th>\n",
       "      <th>F1</th>\n",
       "    </tr>\n",
       "  </thead>\n",
       "  <tbody>\n",
       "    <tr>\n",
       "      <td>1</td>\n",
       "      <td>0.381100</td>\n",
       "      <td>0.330092</td>\n",
       "      <td>0.516667</td>\n",
       "      <td>0.846300</td>\n",
       "    </tr>\n",
       "    <tr>\n",
       "      <td>2</td>\n",
       "      <td>0.209700</td>\n",
       "      <td>0.188021</td>\n",
       "      <td>0.886667</td>\n",
       "      <td>0.963602</td>\n",
       "    </tr>\n",
       "    <tr>\n",
       "      <td>3</td>\n",
       "      <td>0.153500</td>\n",
       "      <td>0.142600</td>\n",
       "      <td>0.970000</td>\n",
       "      <td>0.991288</td>\n",
       "    </tr>\n",
       "  </tbody>\n",
       "</table><p>"
      ],
      "text/plain": [
       "<IPython.core.display.HTML object>"
      ]
     },
     "metadata": {},
     "output_type": "display_data"
    },
    {
     "data": {
      "text/plain": [
       "TrainOutput(global_step=525, training_loss=0.32123843147641135, metrics={'train_runtime': 1507.6411, 'train_samples_per_second': 1.393, 'train_steps_per_second': 0.348, 'total_flos': 278196420096000.0, 'train_loss': 0.32123843147641135, 'epoch': 3.0})"
      ]
     },
     "execution_count": 30,
     "metadata": {},
     "output_type": "execute_result"
    }
   ],
   "source": [
    "# train our model\n",
    "trainer.train()"
   ]
  },
  {
   "cell_type": "code",
   "execution_count": 31,
   "id": "3bddb4ce-28b1-4f85-98e4-a3f58e845bde",
   "metadata": {
    "tags": []
   },
   "outputs": [
    {
     "data": {
      "text/plain": [
       "('../models/my_test_model\\\\tokenizer_config.json',\n",
       " '../models/my_test_model\\\\special_tokens_map.json',\n",
       " '../models/my_test_model\\\\vocab.txt',\n",
       " '../models/my_test_model\\\\added_tokens.json',\n",
       " '../models/my_test_model\\\\tokenizer.json')"
      ]
     },
     "execution_count": 31,
     "metadata": {},
     "output_type": "execute_result"
    }
   ],
   "source": [
    "# save (if didn't earlier)\n",
    "trainer.save_model(model_path)\n",
    "tokenizer.save_pretrained(model_path)"
   ]
  },
  {
   "cell_type": "code",
   "execution_count": null,
   "id": "49e70e2e-e5b7-4766-b382-436d1a1a0bf4",
   "metadata": {},
   "outputs": [],
   "source": [
    "# # note: you can reload this model either from a checkpoint or from the final saved model\n",
    "# # to continue training (back into a new Trainer() instance)\n",
    "\n",
    "# # examples:\n",
    "\n",
    "# # 1. CHECKPOINT \n",
    "# # load from checkpoint\n",
    "# checkpoint = f'{model_path}/checkpoint-500'\n",
    "# model = AutoModelForSequenceClassification.from_pretrained(checkpoint)\n",
    "# tokenizer = AutoTokenizer.from_pretrained(checkpoint)\n",
    "\n",
    "# # re-initialize trainer\n",
    "# trainer = Trainer(\n",
    "#     model=model,\n",
    "#     args=training_args, # same as above\n",
    "#     train_dataset=dataset['train'],\n",
    "#     eval_dataset=dataset['test']\n",
    "# )\n",
    "\n",
    "# # resume - this preservers optimizer states, learning rate scheduler, and epoch counters\n",
    "# trainer.train(resume_from_checkpoint=True)\n",
    "\n",
    "# # 2. NEW TRAINING FROM SAVED MODEL\n",
    "# # Load the saved model (not a checkpoint)\n",
    "# model = AutoModelForSequenceClassification.from_pretrained(model_path)\n",
    "# tokenizer = AutoTokenizer.from_pretrained(model_path)\n",
    "\n",
    "# # New training arguments (can modify as needed)\n",
    "# new_training_args = TrainingArguments(\n",
    "#     output_dir=\"./continued_training\",\n",
    "#     # update save params, learning hyperparams, machine params, log params as you want here\n",
    "# )\n",
    "\n",
    "# # Re-initialize Trainer\n",
    "# trainer = Trainer(\n",
    "#     model=model,\n",
    "#     args=new_training_args,\n",
    "#     train_dataset=new_train_dataset,  # Can be the same or new dataset\n",
    "#     eval_dataset=new_val_dataset\n",
    "# )\n",
    "\n",
    "# # Start training from the loaded model\n",
    "# trainer.train()\n"
   ]
  },
  {
   "cell_type": "code",
   "execution_count": 32,
   "id": "5e69e56f-de48-42db-a4a8-16e862dfaaaa",
   "metadata": {
    "tags": []
   },
   "outputs": [
    {
     "data": {
      "text/html": [
       "\n",
       "    <div>\n",
       "      \n",
       "      <progress value='12500' max='175' style='width:300px; height:20px; vertical-align: middle;'></progress>\n",
       "      [175/175 1:55:09]\n",
       "    </div>\n",
       "    "
      ],
      "text/plain": [
       "<IPython.core.display.HTML object>"
      ]
     },
     "metadata": {},
     "output_type": "display_data"
    },
    {
     "name": "stdout",
     "output_type": "stream",
     "text": [
      "{'eval_train_loss': 0.14308708906173706, 'eval_train_accuracy': 0.9742857142857143, 'eval_train_f1': 0.9921063564603241, 'eval_train_runtime': 93.8062, 'eval_train_samples_per_second': 7.462, 'eval_train_steps_per_second': 1.866, 'epoch': 3.0, 'eval_test_loss': 0.14260007441043854, 'eval_test_accuracy': 0.97, 'eval_test_f1': 0.9912875121006777, 'eval_test_runtime': 40.1353, 'eval_test_samples_per_second': 7.475, 'eval_test_steps_per_second': 1.869}\n",
      "{'eval_loss': 0.14651787281036377, 'eval_accuracy': 0.9650816326530612, 'eval_f1': 0.9893526582684842, 'eval_runtime': 6775.7546, 'eval_samples_per_second': 7.232, 'eval_steps_per_second': 1.808, 'epoch': 3.0}\n"
     ]
    }
   ],
   "source": [
    "# evaluate\n",
    "results_train = trainer.evaluate(eval_dataset=dataset_train)\n",
    "results_test = trainer.evaluate(eval_dataset=dataset_test)\n",
    "print(results_train)\n",
    "print(results_test)"
   ]
  },
  {
   "cell_type": "code",
   "execution_count": 33,
   "id": "ba2de7e4-6d08-4957-a9d0-0ff116aeb8a2",
   "metadata": {
    "tags": []
   },
   "outputs": [
    {
     "name": "stderr",
     "output_type": "stream",
     "text": [
      "Device set to use cpu\n"
     ]
    },
    {
     "data": {
      "text/plain": [
       "[[{'label': 'other', 'score': 0.8851000070571899},\n",
       "  {'label': 'data_scientist', 'score': 0.08201117068529129},\n",
       "  {'label': 'ml_engineer', 'score': 0.050856105983257294},\n",
       "  {'label': 'data_analyst', 'score': 0.04202040284872055},\n",
       "  {'label': 'data_engineer', 'score': 0.03888040408492088}]]"
      ]
     },
     "execution_count": 33,
     "metadata": {},
     "output_type": "execute_result"
    }
   ],
   "source": [
    "# inference\n",
    "my_classifier = pipeline(\n",
    "    'text-classification', \n",
    "    model=model_path, \n",
    "    top_k=None, # needed for multi label \n",
    "    device=-1    # will use a GPU if available and set to 0\n",
    ")\n",
    "\n",
    "# note this did poorly on 'not', but there are options for dealing with that\n",
    "text = 'I am not a data scientist'\n",
    "\n",
    "# directly trained on\n",
    "text = 'ML Ops Specialist, ML Engineer'\n",
    "\n",
    "# unrelated \n",
    "text = \"I'm a librarian. Why'd I get this survey?\"\n",
    "\n",
    "out = my_classifier(text)\n",
    "out"
   ]
  },
  {
   "cell_type": "code",
   "execution_count": 34,
   "id": "a14f2a35-dd56-41a8-8172-c01155881696",
   "metadata": {
    "scrolled": true
   },
   "outputs": [
    {
     "name": "stdout",
     "output_type": "stream",
     "text": [
      "Params:    66,957,317\n",
      "Appx Size: 255.42189407348633\n"
     ]
    }
   ],
   "source": [
    "# size of model\n",
    "n_params = my_classifier.model.num_parameters()\n",
    "n_mb = n_params * 4 / (1024**2)\n",
    "print(f'Params:    {n_params:,}\\nAppx Size: {n_mb}')"
   ]
  },
  {
   "cell_type": "code",
   "execution_count": 35,
   "id": "427a24b1-1a1c-422a-9b85-88ff7bd418ec",
   "metadata": {
    "tags": []
   },
   "outputs": [
    {
     "data": {
      "text/html": [
       "<div>\n",
       "<style scoped>\n",
       "    .dataframe tbody tr th:only-of-type {\n",
       "        vertical-align: middle;\n",
       "    }\n",
       "\n",
       "    .dataframe tbody tr th {\n",
       "        vertical-align: top;\n",
       "    }\n",
       "\n",
       "    .dataframe thead th {\n",
       "        text-align: right;\n",
       "    }\n",
       "</style>\n",
       "<table border=\"1\" class=\"dataframe\">\n",
       "  <thead>\n",
       "    <tr style=\"text-align: right;\">\n",
       "      <th></th>\n",
       "      <th>response</th>\n",
       "      <th>data_scientist</th>\n",
       "      <th>data_engineer</th>\n",
       "      <th>data_analyst</th>\n",
       "      <th>ml_engineer</th>\n",
       "      <th>other</th>\n",
       "      <th>label</th>\n",
       "    </tr>\n",
       "  </thead>\n",
       "  <tbody>\n",
       "    <tr>\n",
       "      <th>0</th>\n",
       "      <td>ML Ops Specialist, ML Engineer</td>\n",
       "      <td>1</td>\n",
       "      <td>0</td>\n",
       "      <td>0</td>\n",
       "      <td>1</td>\n",
       "      <td>0</td>\n",
       "      <td>[1.0, 0.0, 0.0, 1.0, 0.0]</td>\n",
       "    </tr>\n",
       "    <tr>\n",
       "      <th>1</th>\n",
       "      <td>Analytics Consultant (at least that's what my ...</td>\n",
       "      <td>0</td>\n",
       "      <td>0</td>\n",
       "      <td>1</td>\n",
       "      <td>0</td>\n",
       "      <td>0</td>\n",
       "      <td>[0.0, 0.0, 1.0, 0.0, 0.0]</td>\n",
       "    </tr>\n",
       "    <tr>\n",
       "      <th>2</th>\n",
       "      <td>System Administrator</td>\n",
       "      <td>0</td>\n",
       "      <td>0</td>\n",
       "      <td>0</td>\n",
       "      <td>0</td>\n",
       "      <td>1</td>\n",
       "      <td>[0.0, 0.0, 0.0, 0.0, 1.0]</td>\n",
       "    </tr>\n",
       "    <tr>\n",
       "      <th>3</th>\n",
       "      <td>IT Support Specialist</td>\n",
       "      <td>0</td>\n",
       "      <td>0</td>\n",
       "      <td>0</td>\n",
       "      <td>0</td>\n",
       "      <td>1</td>\n",
       "      <td>[0.0, 0.0, 0.0, 0.0, 1.0]</td>\n",
       "    </tr>\n",
       "    <tr>\n",
       "      <th>4</th>\n",
       "      <td>ML Engineer, ML Ops Specialist, Big Data Engin...</td>\n",
       "      <td>1</td>\n",
       "      <td>1</td>\n",
       "      <td>0</td>\n",
       "      <td>1</td>\n",
       "      <td>0</td>\n",
       "      <td>[1.0, 1.0, 0.0, 1.0, 0.0]</td>\n",
       "    </tr>\n",
       "  </tbody>\n",
       "</table>\n",
       "</div>"
      ],
      "text/plain": [
       "                                            response  data_scientist  \\\n",
       "0                     ML Ops Specialist, ML Engineer               1   \n",
       "1  Analytics Consultant (at least that's what my ...               0   \n",
       "2                               System Administrator               0   \n",
       "3                              IT Support Specialist               0   \n",
       "4  ML Engineer, ML Ops Specialist, Big Data Engin...               1   \n",
       "\n",
       "   data_engineer  data_analyst  ml_engineer  other                      label  \n",
       "0              0             0            1      0  [1.0, 0.0, 0.0, 1.0, 0.0]  \n",
       "1              0             1            0      0  [0.0, 0.0, 1.0, 0.0, 0.0]  \n",
       "2              0             0            0      1  [0.0, 0.0, 0.0, 0.0, 1.0]  \n",
       "3              0             0            0      1  [0.0, 0.0, 0.0, 0.0, 1.0]  \n",
       "4              1             0            1      0  [1.0, 1.0, 0.0, 1.0, 0.0]  "
      ]
     },
     "execution_count": 35,
     "metadata": {},
     "output_type": "execute_result"
    }
   ],
   "source": [
    "df.head()"
   ]
  },
  {
   "cell_type": "code",
   "execution_count": 36,
   "id": "b8204d40-c97b-4e0d-b7e1-aa517f7f633a",
   "metadata": {},
   "outputs": [
    {
     "data": {
      "application/vnd.jupyter.widget-view+json": {
       "model_id": "4083e2b562704916a035d50921f25fdd",
       "version_major": 2,
       "version_minor": 0
      },
      "text/plain": [
       "Map (num_proc=4):   0%|          | 0/50000 [00:00<?, ? examples/s]"
      ]
     },
     "metadata": {},
     "output_type": "display_data"
    }
   ],
   "source": [
    "# classify across the entire dataset\n",
    "threshold = 0.5\n",
    "batch_size = 256 # adjust based on GPU/CPU capacity \n",
    "num_proc = 4  # number of CPU cores to use \n",
    "\n",
    "# Apply inference in parallel\n",
    "result_dataset = dataset.map(\n",
    "    classify_batch,\n",
    "    fn_kwargs={'classifier': my_classifier, 'threshold': threshold, 'suffix':'_bert'},\n",
    "    batched=True,             \n",
    "    batch_size=batch_size,           \n",
    "    num_proc=num_proc\n",
    ")"
   ]
  },
  {
   "cell_type": "code",
   "execution_count": 37,
   "id": "54465ec1-18ed-46c7-a596-4c31f75dc1ad",
   "metadata": {
    "tags": []
   },
   "outputs": [],
   "source": [
    "# back to dataframe for later analysis\n",
    "results_df = result_dataset.to_pandas().drop(['response', 'label', 'input_ids', 'attention_mask'], axis=1)"
   ]
  },
  {
   "cell_type": "code",
   "execution_count": 38,
   "id": "cf4b878d-e96b-4f94-b0ed-6ce83ba255cf",
   "metadata": {
    "tags": []
   },
   "outputs": [
    {
     "data": {
      "text/html": [
       "<div>\n",
       "<style scoped>\n",
       "    .dataframe tbody tr th:only-of-type {\n",
       "        vertical-align: middle;\n",
       "    }\n",
       "\n",
       "    .dataframe tbody tr th {\n",
       "        vertical-align: top;\n",
       "    }\n",
       "\n",
       "    .dataframe thead th {\n",
       "        text-align: right;\n",
       "    }\n",
       "</style>\n",
       "<table border=\"1\" class=\"dataframe\">\n",
       "  <thead>\n",
       "    <tr style=\"text-align: right;\">\n",
       "      <th></th>\n",
       "      <th>response</th>\n",
       "      <th>data_scientist</th>\n",
       "      <th>data_engineer</th>\n",
       "      <th>data_analyst</th>\n",
       "      <th>ml_engineer</th>\n",
       "      <th>other</th>\n",
       "      <th>label</th>\n",
       "      <th>data_scientist_bert</th>\n",
       "      <th>data_engineer_bert</th>\n",
       "      <th>data_analyst_bert</th>\n",
       "      <th>ml_engineer_bert</th>\n",
       "      <th>other_bert</th>\n",
       "    </tr>\n",
       "  </thead>\n",
       "  <tbody>\n",
       "    <tr>\n",
       "      <th>0</th>\n",
       "      <td>ML Ops Specialist, ML Engineer</td>\n",
       "      <td>1</td>\n",
       "      <td>0</td>\n",
       "      <td>0</td>\n",
       "      <td>1</td>\n",
       "      <td>0</td>\n",
       "      <td>[1.0, 0.0, 0.0, 1.0, 0.0]</td>\n",
       "      <td>1</td>\n",
       "      <td>0</td>\n",
       "      <td>0</td>\n",
       "      <td>1</td>\n",
       "      <td>0</td>\n",
       "    </tr>\n",
       "    <tr>\n",
       "      <th>1</th>\n",
       "      <td>Analytics Consultant (at least that's what my ...</td>\n",
       "      <td>0</td>\n",
       "      <td>0</td>\n",
       "      <td>1</td>\n",
       "      <td>0</td>\n",
       "      <td>0</td>\n",
       "      <td>[0.0, 0.0, 1.0, 0.0, 0.0]</td>\n",
       "      <td>0</td>\n",
       "      <td>0</td>\n",
       "      <td>1</td>\n",
       "      <td>0</td>\n",
       "      <td>0</td>\n",
       "    </tr>\n",
       "    <tr>\n",
       "      <th>2</th>\n",
       "      <td>System Administrator</td>\n",
       "      <td>0</td>\n",
       "      <td>0</td>\n",
       "      <td>0</td>\n",
       "      <td>0</td>\n",
       "      <td>1</td>\n",
       "      <td>[0.0, 0.0, 0.0, 0.0, 1.0]</td>\n",
       "      <td>0</td>\n",
       "      <td>0</td>\n",
       "      <td>0</td>\n",
       "      <td>0</td>\n",
       "      <td>1</td>\n",
       "    </tr>\n",
       "    <tr>\n",
       "      <th>3</th>\n",
       "      <td>IT Support Specialist</td>\n",
       "      <td>0</td>\n",
       "      <td>0</td>\n",
       "      <td>0</td>\n",
       "      <td>0</td>\n",
       "      <td>1</td>\n",
       "      <td>[0.0, 0.0, 0.0, 0.0, 1.0]</td>\n",
       "      <td>0</td>\n",
       "      <td>0</td>\n",
       "      <td>0</td>\n",
       "      <td>0</td>\n",
       "      <td>1</td>\n",
       "    </tr>\n",
       "    <tr>\n",
       "      <th>4</th>\n",
       "      <td>ML Engineer, ML Ops Specialist, Big Data Engin...</td>\n",
       "      <td>1</td>\n",
       "      <td>1</td>\n",
       "      <td>0</td>\n",
       "      <td>1</td>\n",
       "      <td>0</td>\n",
       "      <td>[1.0, 1.0, 0.0, 1.0, 0.0]</td>\n",
       "      <td>1</td>\n",
       "      <td>1</td>\n",
       "      <td>0</td>\n",
       "      <td>1</td>\n",
       "      <td>0</td>\n",
       "    </tr>\n",
       "  </tbody>\n",
       "</table>\n",
       "</div>"
      ],
      "text/plain": [
       "                                            response  data_scientist  \\\n",
       "0                     ML Ops Specialist, ML Engineer               1   \n",
       "1  Analytics Consultant (at least that's what my ...               0   \n",
       "2                               System Administrator               0   \n",
       "3                              IT Support Specialist               0   \n",
       "4  ML Engineer, ML Ops Specialist, Big Data Engin...               1   \n",
       "\n",
       "   data_engineer  data_analyst  ml_engineer  other                      label  \\\n",
       "0              0             0            1      0  [1.0, 0.0, 0.0, 1.0, 0.0]   \n",
       "1              0             1            0      0  [0.0, 0.0, 1.0, 0.0, 0.0]   \n",
       "2              0             0            0      1  [0.0, 0.0, 0.0, 0.0, 1.0]   \n",
       "3              0             0            0      1  [0.0, 0.0, 0.0, 0.0, 1.0]   \n",
       "4              1             0            1      0  [1.0, 1.0, 0.0, 1.0, 0.0]   \n",
       "\n",
       "   data_scientist_bert  data_engineer_bert  data_analyst_bert  \\\n",
       "0                    1                   0                  0   \n",
       "1                    0                   0                  1   \n",
       "2                    0                   0                  0   \n",
       "3                    0                   0                  0   \n",
       "4                    1                   1                  0   \n",
       "\n",
       "   ml_engineer_bert  other_bert  \n",
       "0                 1           0  \n",
       "1                 0           0  \n",
       "2                 0           1  \n",
       "3                 0           1  \n",
       "4                 1           0  "
      ]
     },
     "execution_count": 38,
     "metadata": {},
     "output_type": "execute_result"
    }
   ],
   "source": [
    "df_results = df.merge(results_df, left_index=True, right_index=True)\n",
    "df_results.head()"
   ]
  },
  {
   "cell_type": "markdown",
   "id": "d136444f-6cde-4516-a131-c354a9b764f2",
   "metadata": {},
   "source": [
    "## Set up a model with NO pre-trained data\n",
    "\n",
    "* Uses an LLM to classify data into a given set of categories\n",
    "* No pre-training required (but probably means worse outputs)\n",
    "* When setting up the pipeline can play with device value I think to make it faster/optimize our space a bit better"
   ]
  },
  {
   "cell_type": "code",
   "execution_count": 17,
   "id": "d5d3e6a3-f539-42f5-abb4-59be29202853",
   "metadata": {
    "tags": []
   },
   "outputs": [
    {
     "name": "stderr",
     "output_type": "stream",
     "text": [
      "Device set to use cpu\n"
     ]
    },
    {
     "data": {
      "text/plain": [
       "{'sequence': 'I am not a data scientist',\n",
       " 'labels': ['Other',\n",
       "  'Response',\n",
       "  'ML Engineer',\n",
       "  'Data Scientist',\n",
       "  'Data Engineer',\n",
       "  'Data Analyst'],\n",
       " 'scores': [0.9456850290298462,\n",
       "  0.45185422897338867,\n",
       "  0.002592480042949319,\n",
       "  0.001965784467756748,\n",
       "  0.001021318370476365,\n",
       "  0.0006961253238841891]}"
      ]
     },
     "execution_count": 17,
     "metadata": {},
     "output_type": "execute_result"
    }
   ],
   "source": [
    "# next build in the facebook method \n",
    "labels_original\n",
    "\n",
    "# zero shot classifier for non-trained data\n",
    "llm_classifier = pipeline(\n",
    "    'zero-shot-classification', \n",
    "    model='facebook/bart-large-mnli', \n",
    "    num_workers=0, # for debugging crashing in the DSVM (disables multiprocessing)\n",
    "    device=-1 # 0 for GPUs I think?\n",
    ")\n",
    "\n",
    "# a not option\n",
    "text = 'I am not a data scientist'\n",
    "\n",
    "# directly trained on\n",
    "# text = 'ML Ops Specialist, ML Engineer'\n",
    "\n",
    "# unrelated \n",
    "# text = \"I'm a librarian. Why'd I get this survey?\"\n",
    "\n",
    "out = llm_classifier(\n",
    "    text, \n",
    "    # extra inputs for the LLM classifier\n",
    "    labels_original, \n",
    "    multi_label=True\n",
    ")\n",
    "out"
   ]
  },
  {
   "cell_type": "code",
   "execution_count": 40,
   "id": "8ce7db76-f57c-421d-a879-200ecbb94835",
   "metadata": {},
   "outputs": [
    {
     "name": "stdout",
     "output_type": "stream",
     "text": [
      "Params:    407,344,131\n",
      "Appx Size: 1553.8945426940918\n"
     ]
    }
   ],
   "source": [
    "# size of model\n",
    "n_params = llm_classifier.model.num_parameters()\n",
    "n_mb = n_params * 4 / (1024**2)\n",
    "print(f'Params:    {n_params:,}\\nAppx Size: {n_mb}')"
   ]
  },
  {
   "cell_type": "code",
   "execution_count": 20,
   "id": "77dc1246-d618-4af7-8ce6-ac7c50991723",
   "metadata": {
    "tags": []
   },
   "outputs": [
    {
     "data": {
      "application/vnd.jupyter.widget-view+json": {
       "model_id": "8d6151351fc54221b359ade84a16d2f9",
       "version_major": 2,
       "version_minor": 0
      },
      "text/plain": [
       "Map:   0%|          | 0/50000 [00:00<?, ? examples/s]"
      ]
     },
     "metadata": {},
     "output_type": "display_data"
    }
   ],
   "source": [
    "# do across entire dataset\n",
    "threshold = 0.5\n",
    "batch_size = 256 # adjust based on GPU/CPU capacity \n",
    "num_proc = 4  # number of CPU cores to use (works on workstation)\n",
    "num_proc = 1 # crashes for the basic DSVM, so testing different options\n",
    "\n",
    "# Apply inference in parallel\n",
    "result_dataset = dataset.map(\n",
    "    classify_batch_llm,\n",
    "    fn_kwargs={'classifier': llm_classifier, 'labels': labels_original, 'threshold': threshold, 'suffix':'_llm'},\n",
    "    batched=True,             \n",
    "    batch_size=batch_size,           \n",
    "    num_proc=num_proc\n",
    ")"
   ]
  },
  {
   "cell_type": "code",
   "execution_count": 21,
   "id": "6780e6fe-5709-455a-90eb-9eb271d98ac9",
   "metadata": {
    "tags": []
   },
   "outputs": [
    {
     "data": {
      "text/html": [
       "<div>\n",
       "<style scoped>\n",
       "    .dataframe tbody tr th:only-of-type {\n",
       "        vertical-align: middle;\n",
       "    }\n",
       "\n",
       "    .dataframe tbody tr th {\n",
       "        vertical-align: top;\n",
       "    }\n",
       "\n",
       "    .dataframe thead th {\n",
       "        text-align: right;\n",
       "    }\n",
       "</style>\n",
       "<table border=\"1\" class=\"dataframe\">\n",
       "  <thead>\n",
       "    <tr style=\"text-align: right;\">\n",
       "      <th></th>\n",
       "      <th>response_llm</th>\n",
       "      <th>data_scientist_llm</th>\n",
       "      <th>data_engineer_llm</th>\n",
       "      <th>data_analyst_llm</th>\n",
       "      <th>ml_engineer_llm</th>\n",
       "      <th>other_llm</th>\n",
       "    </tr>\n",
       "  </thead>\n",
       "  <tbody>\n",
       "    <tr>\n",
       "      <th>0</th>\n",
       "      <td>1</td>\n",
       "      <td>0</td>\n",
       "      <td>0</td>\n",
       "      <td>0</td>\n",
       "      <td>1</td>\n",
       "      <td>0</td>\n",
       "    </tr>\n",
       "    <tr>\n",
       "      <th>1</th>\n",
       "      <td>0</td>\n",
       "      <td>0</td>\n",
       "      <td>0</td>\n",
       "      <td>0</td>\n",
       "      <td>0</td>\n",
       "      <td>1</td>\n",
       "    </tr>\n",
       "    <tr>\n",
       "      <th>2</th>\n",
       "      <td>0</td>\n",
       "      <td>0</td>\n",
       "      <td>0</td>\n",
       "      <td>0</td>\n",
       "      <td>0</td>\n",
       "      <td>1</td>\n",
       "    </tr>\n",
       "    <tr>\n",
       "      <th>3</th>\n",
       "      <td>0</td>\n",
       "      <td>0</td>\n",
       "      <td>0</td>\n",
       "      <td>0</td>\n",
       "      <td>0</td>\n",
       "      <td>1</td>\n",
       "    </tr>\n",
       "    <tr>\n",
       "      <th>4</th>\n",
       "      <td>1</td>\n",
       "      <td>1</td>\n",
       "      <td>1</td>\n",
       "      <td>0</td>\n",
       "      <td>1</td>\n",
       "      <td>0</td>\n",
       "    </tr>\n",
       "  </tbody>\n",
       "</table>\n",
       "</div>"
      ],
      "text/plain": [
       "   response_llm  data_scientist_llm  data_engineer_llm  data_analyst_llm  \\\n",
       "0             1                   0                  0                 0   \n",
       "1             0                   0                  0                 0   \n",
       "2             0                   0                  0                 0   \n",
       "3             0                   0                  0                 0   \n",
       "4             1                   1                  1                 0   \n",
       "\n",
       "   ml_engineer_llm  other_llm  \n",
       "0                1          0  \n",
       "1                0          1  \n",
       "2                0          1  \n",
       "3                0          1  \n",
       "4                1          0  "
      ]
     },
     "execution_count": 21,
     "metadata": {},
     "output_type": "execute_result"
    }
   ],
   "source": [
    "# back to dataframe for later analysis\n",
    "results_df = result_dataset.to_pandas().drop(['response', 'label', 'input_ids', 'attention_mask'], axis=1)\n",
    "results_df.head()"
   ]
  },
  {
   "cell_type": "code",
   "execution_count": null,
   "id": "6c81dda7-6dde-420b-8e00-5a336b2810b6",
   "metadata": {
    "tags": []
   },
   "outputs": [],
   "source": [
    "df_results_complete = df_results.merge(results_df, left_index=True, right_index=True)\n",
    "df_results_complete.head()"
   ]
  },
  {
   "cell_type": "markdown",
   "id": "6efea147-8904-48fc-8b1a-760222ff48aa",
   "metadata": {},
   "source": [
    "## Final Comparison of Outputs\n",
    "\n",
    "* Look at how well the model did at:\n",
    "  * Getting the outputs exactly matched to the initial data\n",
    "  * Getting the outputs exactly matched, but added in an extra category\n",
    "  * Adding at least one category that wasn't in initial data\n",
    "  * Missing at least one category that wasn't in initial data"
   ]
  },
  {
   "cell_type": "code",
   "execution_count": 46,
   "id": "dd28c93d-3a4e-4d14-82c4-33de80ac293d",
   "metadata": {
    "tags": []
   },
   "outputs": [
    {
     "ename": "NameError",
     "evalue": "name 'df_results_complete' is not defined",
     "output_type": "error",
     "traceback": [
      "\u001b[1;31m---------------------------------------------------------------------------\u001b[0m",
      "\u001b[1;31mNameError\u001b[0m                                 Traceback (most recent call last)",
      "Cell \u001b[1;32mIn[46], line 4\u001b[0m\n\u001b[0;32m      1\u001b[0m labels\n\u001b[0;32m      2\u001b[0m labels_bert \u001b[38;5;241m=\u001b[39m [x\u001b[38;5;241m+\u001b[39m\u001b[38;5;124m'\u001b[39m\u001b[38;5;124m_bert\u001b[39m\u001b[38;5;124m'\u001b[39m \u001b[38;5;28;01mfor\u001b[39;00m x \u001b[38;5;129;01min\u001b[39;00m labels]\n\u001b[1;32m----> 4\u001b[0m df_results_complete[\u001b[38;5;124m'\u001b[39m\u001b[38;5;124mall_right_bert\u001b[39m\u001b[38;5;124m'\u001b[39m] \u001b[38;5;241m=\u001b[39m \u001b[43mdf_results_complete\u001b[49m\u001b[38;5;241m.\u001b[39mapply(all_right, axis\u001b[38;5;241m=\u001b[39m\u001b[38;5;241m1\u001b[39m, args\u001b[38;5;241m=\u001b[39m(labels, labels_bert))\n\u001b[0;32m      5\u001b[0m df_results_complete[\u001b[38;5;124m'\u001b[39m\u001b[38;5;124mright_plus_extra_bert\u001b[39m\u001b[38;5;124m'\u001b[39m] \u001b[38;5;241m=\u001b[39m df_results_complete\u001b[38;5;241m.\u001b[39mapply(right_plus_extra, axis\u001b[38;5;241m=\u001b[39m\u001b[38;5;241m1\u001b[39m, args\u001b[38;5;241m=\u001b[39m(labels, labels_bert))\n\u001b[0;32m      6\u001b[0m df_results_complete[\u001b[38;5;124m'\u001b[39m\u001b[38;5;124madded_one_bert\u001b[39m\u001b[38;5;124m'\u001b[39m] \u001b[38;5;241m=\u001b[39m df_results_complete\u001b[38;5;241m.\u001b[39mapply(added_one, axis\u001b[38;5;241m=\u001b[39m\u001b[38;5;241m1\u001b[39m, args\u001b[38;5;241m=\u001b[39m(labels, labels_bert))\n",
      "\u001b[1;31mNameError\u001b[0m: name 'df_results_complete' is not defined"
     ]
    }
   ],
   "source": [
    "labels\n",
    "labels_bert = [x+'_bert' for x in labels]\n",
    "\n",
    "df_results_complete['all_right_bert'] = df_results_complete.apply(all_right, axis=1, args=(labels, labels_bert))\n",
    "df_results_complete['right_plus_extra_bert'] = df_results_complete.apply(right_plus_extra, axis=1, args=(labels, labels_bert))\n",
    "df_results_complete['added_one_bert'] = df_results_complete.apply(added_one, axis=1, args=(labels, labels_bert))\n",
    "df_results_complete['missed_one_bert'] = df_results_complete.apply(missed_one, axis=1, args=(labels, labels_bert))\n",
    "\n",
    "#labels_llm = [x+'_llm' for x in labels]\n",
    "#df_results_complete['all_right_llm'] = df_results_complete.apply(all_right, axis=1, args=(labels, labels_llm))\n",
    "#df_results_complete['right_plus_extra_llm'] = df_results_complete.apply(right_plus_extra, axis=1, args=(labels, labels_llm))\n",
    "#df_results_complete['added_one_llm'] = df_results_complete.apply(added_one, axis=1, args=(labels, labels_llm))\n",
    "#df_results_complete['missed_one_llm'] = df_results_complete.apply(missed_one, axis=1, args=(labels, labels_llm))"
   ]
  },
  {
   "cell_type": "code",
   "execution_count": null,
   "id": "149055d9-039d-4c0f-9f8f-9890ac36c9c1",
   "metadata": {
    "tags": []
   },
   "outputs": [],
   "source": [
    "df_summary = df_results_complete[\n",
    "    [\n",
    "        'all_right_bert', 'right_plus_extra_bert', 'added_one_bert', 'missed_one_bert',\n",
    "        'all_right_llm',  'right_plus_extra_llm',  'added_one_llm',  'missed_one_llm'\n",
    "    ]\n",
    "].sum().reset_index()\n",
    "df_summary.columns = ['metric', 'n']\n",
    "df_summary['pct'] = df_summary['n']/len(df_results_complete)\n",
    "df_summary"
   ]
  },
  {
   "cell_type": "code",
   "execution_count": null,
   "id": "0d23c234-3566-417b-a3cb-dca049df3450",
   "metadata": {
    "tags": []
   },
   "outputs": [],
   "source": [
    "suffix = 'bert'\n",
    "df_results_complete[~df_results_complete[f'all_right_{suffix}']][['response']+labels+[x+'_'+suffix for x in labels]]"
   ]
  },
  {
   "cell_type": "code",
   "execution_count": null,
   "id": "79607083-e0ba-4bda-8524-2fb70231b885",
   "metadata": {
    "tags": []
   },
   "outputs": [],
   "source": [
    "suffix = 'llm'\n",
    "df_results_complete[~df_results_complete[f'all_right_{suffix}']][['response']+labels+[x+'_'+suffix for x in labels]]"
   ]
  },
  {
   "cell_type": "code",
   "execution_count": null,
   "id": "e028ed40-d88a-4f5d-99dd-9857d4145cc0",
   "metadata": {},
   "outputs": [],
   "source": []
  }
 ],
 "metadata": {
  "kernelspec": {
   "display_name": "Python 3 (ipykernel)",
   "language": "python",
   "name": "python3"
  },
  "language_info": {
   "codemirror_mode": {
    "name": "ipython",
    "version": 3
   },
   "file_extension": ".py",
   "mimetype": "text/x-python",
   "name": "python",
   "nbconvert_exporter": "python",
   "pygments_lexer": "ipython3",
   "version": "3.10.16"
  }
 },
 "nbformat": 4,
 "nbformat_minor": 5
}
