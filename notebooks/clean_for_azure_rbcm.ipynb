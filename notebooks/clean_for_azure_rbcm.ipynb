{
 "cells": [
  {
   "cell_type": "markdown",
   "id": "c1490a4d-2d13-4e13-823b-8b20a1693e4f",
   "metadata": {},
   "source": [
    "### Data Cleaning \n",
    "\n",
    "create a column that will work with AZ ML Workspace\n"
   ]
  },
  {
   "cell_type": "code",
   "execution_count": null,
   "id": "938952a9-d8a7-43bd-9cfb-9b2d9b7275ab",
   "metadata": {},
   "outputs": [],
   "source": [
    "# system stuff\n",
    "import sys\n",
    "import os\n",
    "\n",
    "import pandas as pd\n",
    "\n",
    "# my stuff (abstracted non-important functions)\n",
    "# Get the project root (one level up from notebooks)\n",
    "sys.path.append(os.path.abspath(os.path.join(os.getcwd(), \"..\")))\n",
    "from src.config import data_path_rvm\n",
    "from src.prepare_data import create_train_test_dataframes"
   ]
  },
  {
   "cell_type": "code",
   "execution_count": null,
   "id": "3971942f-4a8d-4a68-8c44-5faf84d859fb",
   "metadata": {},
   "outputs": [],
   "source": [
    "# create a single column to use as target for Azure\n",
    "def create_target(row):\n",
    "    options = row[1:]\n",
    "    # find where true\n",
    "    out = ','.join(['\"'+x+'\"' for x in options[options=='X'].index])\n",
    "    if len(out)==0:\n",
    "        out = '[\"Other\"]'\n",
    "    else:\n",
    "        out = '['+out+']'\n",
    "    return out"
   ]
  },
  {
   "cell_type": "code",
   "execution_count": null,
   "id": "5f696d88-7bcf-4d5c-9db8-f1dd5f9250a4",
   "metadata": {},
   "outputs": [],
   "source": [
    "df = pd.read_excel(data_path_rvm, sheet_name = 'Q07a')\n",
    "df = df.iloc[:, 4:-1]\n",
    "df.columns = ['Response'] + list(df.columns[1:])\n",
    "df.head()"
   ]
  },
  {
   "cell_type": "code",
   "execution_count": null,
   "id": "7a3e12e4-cb79-45a2-ac66-8a2319293f28",
   "metadata": {},
   "outputs": [],
   "source": [
    "df['target'] = df.apply(create_target, axis=1)\n",
    "df.head()"
   ]
  },
  {
   "cell_type": "code",
   "execution_count": null,
   "id": "0140c01f-8da9-46bc-8a7a-5b34c15f0318",
   "metadata": {},
   "outputs": [],
   "source": [
    "# remove multi-line characters and NA responses\n",
    "df = df[~pd.isna(df['Response'])]\n",
    "df['Response'] = df['Response'].apply(lambda x: x.replace('\\n',' '))\n",
    "df.head()"
   ]
  },
  {
   "cell_type": "code",
   "execution_count": null,
   "id": "a1974de4-f5c2-4d94-a844-e9aa635d3399",
   "metadata": {},
   "outputs": [],
   "source": [
    "# split so that it only trains on a subset \n",
    "n_train = 1_500\n",
    "df_train, df_test = create_train_test_dataframes(df, n_train=n_train)"
   ]
  },
  {
   "cell_type": "code",
   "execution_count": null,
   "id": "6344abb8-c186-4f7e-aa2d-9f011e7da099",
   "metadata": {},
   "outputs": [],
   "source": [
    "# pull another 1_000 for validation\n",
    "df_validate, df_test = create_train_test_dataframes(df_test, n_train=n_train)"
   ]
  },
  {
   "cell_type": "code",
   "execution_count": null,
   "id": "d50c2f61-034d-4cc0-aa6b-f25a4e4e9259",
   "metadata": {},
   "outputs": [],
   "source": [
    "# save these for upload to the workspace\n",
    "# after removing the int columns\n",
    "df_train[['Response', 'target']].to_csv(data_path_rvm.replace('.xlsx', '_train.csv'), index=False)\n",
    "df_validate[['Response', 'target']].to_csv(data_path_rvm.replace('.xlsx', '_validate.csv'), index=False)\n",
    "df_test[['Response', 'target']].to_csv(data_path_rvm.replace('.xlsx', '_test.csv'), index=False)"
   ]
  },
  {
   "cell_type": "code",
   "execution_count": null,
   "id": "ab8bf3b9-e097-4838-bb78-0d911856e9eb",
   "metadata": {},
   "outputs": [],
   "source": [
    "tmp = df_train.iloc[6,:].Response\n",
    "display(tmp)\n",
    "tmp.replace('\\n',' ')"
   ]
  },
  {
   "cell_type": "code",
   "execution_count": null,
   "id": "c29dffe1-0c1d-4488-9e63-71ecbd0861db",
   "metadata": {},
   "outputs": [],
   "source": []
  }
 ],
 "metadata": {
  "kernelspec": {
   "display_name": "Python 3 (ipykernel)",
   "language": "python",
   "name": "python3"
  },
  "language_info": {
   "codemirror_mode": {
    "name": "ipython",
    "version": 3
   },
   "file_extension": ".py",
   "mimetype": "text/x-python",
   "name": "python",
   "nbconvert_exporter": "python",
   "pygments_lexer": "ipython3",
   "version": "3.10.15"
  }
 },
 "nbformat": 4,
 "nbformat_minor": 5
}
